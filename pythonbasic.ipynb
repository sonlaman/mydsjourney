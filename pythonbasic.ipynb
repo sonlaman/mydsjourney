{
  "nbformat": 4,
  "nbformat_minor": 0,
  "metadata": {
    "colab": {
      "provenance": [],
      "authorship_tag": "ABX9TyOXBjg9NLKMe6/AYrwlRGut",
      "include_colab_link": true
    },
    "kernelspec": {
      "name": "python3",
      "display_name": "Python 3"
    },
    "language_info": {
      "name": "python"
    }
  },
  "cells": [
    {
      "cell_type": "markdown",
      "metadata": {
        "id": "view-in-github",
        "colab_type": "text"
      },
      "source": [
        "<a href=\"https://colab.research.google.com/github/sonlaman/mydsjourney/blob/main/pythonbasic.ipynb\" target=\"_parent\"><img src=\"https://colab.research.google.com/assets/colab-badge.svg\" alt=\"Open In Colab\"/></a>"
      ]
    },
    {
      "cell_type": "code",
      "source": [
        "2+2"
      ],
      "metadata": {
        "colab": {
          "base_uri": "https://localhost:8080/"
        },
        "id": "U18Ud68roS7K",
        "outputId": "320eafb7-41ee-4e69-f61b-0b2cfbc348c9"
      },
      "execution_count": 2,
      "outputs": [
        {
          "output_type": "execute_result",
          "data": {
            "text/plain": [
              "4"
            ]
          },
          "metadata": {},
          "execution_count": 2
        }
      ]
    },
    {
      "cell_type": "code",
      "source": [
        "weight = 20\n",
        "height = 30\n",
        "weight * height\n"
      ],
      "metadata": {
        "colab": {
          "base_uri": "https://localhost:8080/"
        },
        "id": "WONIlx_OpL_h",
        "outputId": "ecfd687d-e8ba-435b-b7d0-7b35caf39d45"
      },
      "execution_count": 8,
      "outputs": [
        {
          "output_type": "execute_result",
          "data": {
            "text/plain": [
              "600"
            ]
          },
          "metadata": {},
          "execution_count": 8
        }
      ]
    },
    {
      "cell_type": "code",
      "source": [
        "\"\\\"yes\\\", he said\""
      ],
      "metadata": {
        "colab": {
          "base_uri": "https://localhost:8080/",
          "height": 35
        },
        "id": "doGZY2SIqzm4",
        "outputId": "396ff0e2-5fea-4087-d592-daaf8fb1f1d8"
      },
      "execution_count": 22,
      "outputs": [
        {
          "output_type": "execute_result",
          "data": {
            "text/plain": [
              "'\"yes\", he said'"
            ],
            "application/vnd.google.colaboratory.intrinsic+json": {
              "type": "string"
            }
          },
          "metadata": {},
          "execution_count": 22
        }
      ]
    },
    {
      "cell_type": "code",
      "source": [
        "'\\\"yes\\', he said'"
      ],
      "metadata": {
        "colab": {
          "base_uri": "https://localhost:8080/",
          "height": 35
        },
        "id": "bJqKALZ2rKjZ",
        "outputId": "fd4be657-5c1d-402d-9d9b-315b73bfdfb2"
      },
      "execution_count": 24,
      "outputs": [
        {
          "output_type": "execute_result",
          "data": {
            "text/plain": [
              "'\"yes\\', he said'"
            ],
            "application/vnd.google.colaboratory.intrinsic+json": {
              "type": "string"
            }
          },
          "metadata": {},
          "execution_count": 24
        }
      ]
    },
    {
      "cell_type": "code",
      "source": [
        "x = y = z = 0\n",
        "x\n",
        "y\n",
        "z"
      ],
      "metadata": {
        "colab": {
          "base_uri": "https://localhost:8080/"
        },
        "id": "58NbSPrkpngl",
        "outputId": "0e7ce6ee-71e3-4764-9ac5-b42c26148def"
      },
      "execution_count": 7,
      "outputs": [
        {
          "output_type": "execute_result",
          "data": {
            "text/plain": [
              "0"
            ]
          },
          "metadata": {},
          "execution_count": 7
        }
      ]
    },
    {
      "cell_type": "code",
      "source": [
        "#multi lines/text block\n",
        "text = '''\n",
        "\\'WHAT\n",
        "EVER\\'\n",
        "!\n",
        "'''\n",
        "print (text)"
      ],
      "metadata": {
        "colab": {
          "base_uri": "https://localhost:8080/"
        },
        "id": "fmk8mm5Ms49b",
        "outputId": "18cff885-d010-4c53-84c9-17519073efd7"
      },
      "execution_count": 27,
      "outputs": [
        {
          "output_type": "stream",
          "name": "stdout",
          "text": [
            "\n",
            "'WHAT\n",
            "EVER'\n",
            "!\n",
            "\n"
          ]
        }
      ]
    },
    {
      "cell_type": "code",
      "source": [
        "#multi lines/text block\n",
        "text = r'''\n",
        "\\'WHAT\n",
        "EVER\\'\n",
        "!\n",
        "'''\n",
        "print (text)"
      ],
      "metadata": {
        "colab": {
          "base_uri": "https://localhost:8080/"
        },
        "id": "o0jViDsCtaFJ",
        "outputId": "145935e0-0c64-4911-a587-743e45e5d366"
      },
      "execution_count": 30,
      "outputs": [
        {
          "output_type": "stream",
          "name": "stdout",
          "text": [
            "\n",
            "\\'WHAT\n",
            "EVER\\'\n",
            "!\n",
            "\n"
          ]
        }
      ]
    },
    {
      "cell_type": "code",
      "source": [
        "text = 'try new line \\n whatever'\n",
        "print(text)"
      ],
      "metadata": {
        "colab": {
          "base_uri": "https://localhost:8080/"
        },
        "id": "Yo8HJZlTtziE",
        "outputId": "d5b1ad7c-f78d-4b26-cc9f-b8c7a06e99bc"
      },
      "execution_count": 31,
      "outputs": [
        {
          "output_type": "stream",
          "name": "stdout",
          "text": [
            "try new line \n",
            " whatever\n"
          ]
        }
      ]
    },
    {
      "cell_type": "code",
      "source": [
        "text = r'try new line \\n whatever'\n",
        "print(text)"
      ],
      "metadata": {
        "colab": {
          "base_uri": "https://localhost:8080/"
        },
        "id": "mjmw3wGgt-8T",
        "outputId": "8ea2aa0d-f2d3-44e8-fe17-786ef0b47cdb"
      },
      "execution_count": 32,
      "outputs": [
        {
          "output_type": "stream",
          "name": "stdout",
          "text": [
            "try new line \\n whatever\n"
          ]
        }
      ]
    }
  ]
}